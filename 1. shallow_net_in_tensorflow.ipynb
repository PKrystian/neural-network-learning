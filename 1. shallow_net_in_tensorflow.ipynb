{
 "cells": [
  {
   "cell_type": "markdown",
   "metadata": {
    "id": "yXe7qqFO6_a0"
   },
   "source": [
    "# Płytka sieć w TensorFlow"
   ]
  },
  {
   "cell_type": "markdown",
   "metadata": {
    "id": "jmuNn2tq6_a3"
   },
   "source": [
    "Konstruowanie płytkiej sieci neuronowej klasyfikującej ręcznie pisane litery"
   ]
  },
  {
   "cell_type": "markdown",
   "metadata": {
    "id": "jmuNn2tq6_a3"
   },
   "source": [
    "### (opcjonalnie) najpierw zainstalujmy tensorflowa..."
   ]
  },
  {
   "cell_type": "code",
   "execution_count": 35,
   "metadata": {},
   "outputs": [
    {
     "name": "stdout",
     "output_type": "stream",
     "text": [
      "Requirement already satisfied: tensorflow in c:\\users\\kryst\\anaconda3\\lib\\site-packages (2.14.0)\n",
      "Requirement already satisfied: tensorflow-intel==2.14.0 in c:\\users\\kryst\\anaconda3\\lib\\site-packages (from tensorflow) (2.14.0)\n",
      "Requirement already satisfied: absl-py>=1.0.0 in c:\\users\\kryst\\anaconda3\\lib\\site-packages (from tensorflow-intel==2.14.0->tensorflow) (2.0.0)\n",
      "Requirement already satisfied: astunparse>=1.6.0 in c:\\users\\kryst\\anaconda3\\lib\\site-packages (from tensorflow-intel==2.14.0->tensorflow) (1.6.3)\n",
      "Requirement already satisfied: flatbuffers>=23.5.26 in c:\\users\\kryst\\anaconda3\\lib\\site-packages (from tensorflow-intel==2.14.0->tensorflow) (23.5.26)\n",
      "Requirement already satisfied: gast!=0.5.0,!=0.5.1,!=0.5.2,>=0.2.1 in c:\\users\\kryst\\anaconda3\\lib\\site-packages (from tensorflow-intel==2.14.0->tensorflow) (0.5.4)\n",
      "Requirement already satisfied: google-pasta>=0.1.1 in c:\\users\\kryst\\anaconda3\\lib\\site-packages (from tensorflow-intel==2.14.0->tensorflow) (0.2.0)\n",
      "Requirement already satisfied: h5py>=2.9.0 in c:\\users\\kryst\\anaconda3\\lib\\site-packages (from tensorflow-intel==2.14.0->tensorflow) (3.7.0)\n",
      "Requirement already satisfied: libclang>=13.0.0 in c:\\users\\kryst\\anaconda3\\lib\\site-packages (from tensorflow-intel==2.14.0->tensorflow) (16.0.6)\n",
      "Requirement already satisfied: ml-dtypes==0.2.0 in c:\\users\\kryst\\anaconda3\\lib\\site-packages (from tensorflow-intel==2.14.0->tensorflow) (0.2.0)\n",
      "Requirement already satisfied: numpy>=1.23.5 in c:\\users\\kryst\\anaconda3\\lib\\site-packages (from tensorflow-intel==2.14.0->tensorflow) (1.26.0)\n",
      "Requirement already satisfied: opt-einsum>=2.3.2 in c:\\users\\kryst\\anaconda3\\lib\\site-packages (from tensorflow-intel==2.14.0->tensorflow) (3.3.0)\n",
      "Requirement already satisfied: packaging in c:\\users\\kryst\\anaconda3\\lib\\site-packages (from tensorflow-intel==2.14.0->tensorflow) (22.0)\n",
      "Requirement already satisfied: protobuf!=4.21.0,!=4.21.1,!=4.21.2,!=4.21.3,!=4.21.4,!=4.21.5,<5.0.0dev,>=3.20.3 in c:\\users\\kryst\\anaconda3\\lib\\site-packages (from tensorflow-intel==2.14.0->tensorflow) (4.25.0)\n",
      "Requirement already satisfied: setuptools in c:\\users\\kryst\\anaconda3\\lib\\site-packages (from tensorflow-intel==2.14.0->tensorflow) (65.6.3)\n",
      "Requirement already satisfied: six>=1.12.0 in c:\\users\\kryst\\anaconda3\\lib\\site-packages (from tensorflow-intel==2.14.0->tensorflow) (1.16.0)\n",
      "Requirement already satisfied: termcolor>=1.1.0 in c:\\users\\kryst\\anaconda3\\lib\\site-packages (from tensorflow-intel==2.14.0->tensorflow) (2.3.0)\n",
      "Requirement already satisfied: typing-extensions>=3.6.6 in c:\\users\\kryst\\anaconda3\\lib\\site-packages (from tensorflow-intel==2.14.0->tensorflow) (4.4.0)\n",
      "Requirement already satisfied: wrapt<1.15,>=1.11.0 in c:\\users\\kryst\\anaconda3\\lib\\site-packages (from tensorflow-intel==2.14.0->tensorflow) (1.14.1)\n",
      "Requirement already satisfied: tensorflow-io-gcs-filesystem>=0.23.1 in c:\\users\\kryst\\anaconda3\\lib\\site-packages (from tensorflow-intel==2.14.0->tensorflow) (0.31.0)\n",
      "Requirement already satisfied: grpcio<2.0,>=1.24.3 in c:\\users\\kryst\\anaconda3\\lib\\site-packages (from tensorflow-intel==2.14.0->tensorflow) (1.59.2)\n",
      "Requirement already satisfied: tensorboard<2.15,>=2.14 in c:\\users\\kryst\\anaconda3\\lib\\site-packages (from tensorflow-intel==2.14.0->tensorflow) (2.14.1)\n",
      "Requirement already satisfied: tensorflow-estimator<2.15,>=2.14.0 in c:\\users\\kryst\\anaconda3\\lib\\site-packages (from tensorflow-intel==2.14.0->tensorflow) (2.14.0)\n",
      "Requirement already satisfied: keras<2.15,>=2.14.0 in c:\\users\\kryst\\anaconda3\\lib\\site-packages (from tensorflow-intel==2.14.0->tensorflow) (2.14.0)\n",
      "Requirement already satisfied: wheel<1.0,>=0.23.0 in c:\\users\\kryst\\anaconda3\\lib\\site-packages (from astunparse>=1.6.0->tensorflow-intel==2.14.0->tensorflow) (0.38.4)\n",
      "Requirement already satisfied: google-auth<3,>=1.6.3 in c:\\users\\kryst\\anaconda3\\lib\\site-packages (from tensorboard<2.15,>=2.14->tensorflow-intel==2.14.0->tensorflow) (2.23.4)\n",
      "Requirement already satisfied: google-auth-oauthlib<1.1,>=0.5 in c:\\users\\kryst\\anaconda3\\lib\\site-packages (from tensorboard<2.15,>=2.14->tensorflow-intel==2.14.0->tensorflow) (1.0.0)\n",
      "Requirement already satisfied: markdown>=2.6.8 in c:\\users\\kryst\\anaconda3\\lib\\site-packages (from tensorboard<2.15,>=2.14->tensorflow-intel==2.14.0->tensorflow) (3.4.1)\n",
      "Requirement already satisfied: requests<3,>=2.21.0 in c:\\users\\kryst\\anaconda3\\lib\\site-packages (from tensorboard<2.15,>=2.14->tensorflow-intel==2.14.0->tensorflow) (2.28.1)\n",
      "Requirement already satisfied: tensorboard-data-server<0.8.0,>=0.7.0 in c:\\users\\kryst\\anaconda3\\lib\\site-packages (from tensorboard<2.15,>=2.14->tensorflow-intel==2.14.0->tensorflow) (0.7.2)\n",
      "Requirement already satisfied: werkzeug>=1.0.1 in c:\\users\\kryst\\anaconda3\\lib\\site-packages (from tensorboard<2.15,>=2.14->tensorflow-intel==2.14.0->tensorflow) (2.2.2)\n",
      "Requirement already satisfied: cachetools<6.0,>=2.0.0 in c:\\users\\kryst\\anaconda3\\lib\\site-packages (from google-auth<3,>=1.6.3->tensorboard<2.15,>=2.14->tensorflow-intel==2.14.0->tensorflow) (5.3.2)\n",
      "Requirement already satisfied: pyasn1-modules>=0.2.1 in c:\\users\\kryst\\anaconda3\\lib\\site-packages (from google-auth<3,>=1.6.3->tensorboard<2.15,>=2.14->tensorflow-intel==2.14.0->tensorflow) (0.2.8)\n",
      "Requirement already satisfied: rsa<5,>=3.1.4 in c:\\users\\kryst\\anaconda3\\lib\\site-packages (from google-auth<3,>=1.6.3->tensorboard<2.15,>=2.14->tensorflow-intel==2.14.0->tensorflow) (4.9)\n",
      "Requirement already satisfied: requests-oauthlib>=0.7.0 in c:\\users\\kryst\\anaconda3\\lib\\site-packages (from google-auth-oauthlib<1.1,>=0.5->tensorboard<2.15,>=2.14->tensorflow-intel==2.14.0->tensorflow) (1.3.1)\n",
      "Requirement already satisfied: charset-normalizer<3,>=2 in c:\\users\\kryst\\anaconda3\\lib\\site-packages (from requests<3,>=2.21.0->tensorboard<2.15,>=2.14->tensorflow-intel==2.14.0->tensorflow) (2.0.4)\n",
      "Requirement already satisfied: idna<4,>=2.5 in c:\\users\\kryst\\anaconda3\\lib\\site-packages (from requests<3,>=2.21.0->tensorboard<2.15,>=2.14->tensorflow-intel==2.14.0->tensorflow) (3.4)\n",
      "Requirement already satisfied: urllib3<1.27,>=1.21.1 in c:\\users\\kryst\\anaconda3\\lib\\site-packages (from requests<3,>=2.21.0->tensorboard<2.15,>=2.14->tensorflow-intel==2.14.0->tensorflow) (1.26.14)\n",
      "Requirement already satisfied: certifi>=2017.4.17 in c:\\users\\kryst\\anaconda3\\lib\\site-packages (from requests<3,>=2.21.0->tensorboard<2.15,>=2.14->tensorflow-intel==2.14.0->tensorflow) (2022.12.7)\n",
      "Requirement already satisfied: MarkupSafe>=2.1.1 in c:\\users\\kryst\\anaconda3\\lib\\site-packages (from werkzeug>=1.0.1->tensorboard<2.15,>=2.14->tensorflow-intel==2.14.0->tensorflow) (2.1.1)\n",
      "Requirement already satisfied: pyasn1<0.5.0,>=0.4.6 in c:\\users\\kryst\\anaconda3\\lib\\site-packages (from pyasn1-modules>=0.2.1->google-auth<3,>=1.6.3->tensorboard<2.15,>=2.14->tensorflow-intel==2.14.0->tensorflow) (0.4.8)\n",
      "Requirement already satisfied: oauthlib>=3.0.0 in c:\\users\\kryst\\anaconda3\\lib\\site-packages (from requests-oauthlib>=0.7.0->google-auth-oauthlib<1.1,>=0.5->tensorboard<2.15,>=2.14->tensorflow-intel==2.14.0->tensorflow) (3.2.2)\n"
     ]
    }
   ],
   "source": [
    "!pip install tensorflow"
   ]
  },
  {
   "cell_type": "markdown",
   "metadata": {
    "id": "N3UVHR0h6_a3"
   },
   "source": [
    "### Import zależności (na wstępie ładujemy tensorboarda)"
   ]
  },
  {
   "cell_type": "code",
   "execution_count": 36,
   "metadata": {
    "id": "q3D0fOWA6_a3",
    "scrolled": true
   },
   "outputs": [
    {
     "name": "stdout",
     "output_type": "stream",
     "text": [
      "The tensorboard extension is already loaded. To reload it, use:\n",
      "  %reload_ext tensorboard\n"
     ]
    }
   ],
   "source": [
    "%load_ext tensorboard\n",
    "import tensorflow\n",
    "from tensorflow.keras.datasets import mnist\n",
    "from tensorflow.keras.utils import to_categorical\n",
    "from tensorflow.keras.models import Sequential\n",
    "from tensorflow.keras.layers import Dense\n",
    "from tensorflow.keras.optimizers import SGD\n",
    "from matplotlib import pyplot as plt"
   ]
  },
  {
   "cell_type": "markdown",
   "metadata": {
    "id": "ylXl_LZW6_a4"
   },
   "source": [
    "### Wczytajmy obrazy ze zbioru MNIST"
   ]
  },
  {
   "cell_type": "code",
   "execution_count": 37,
   "metadata": {
    "colab": {
     "base_uri": "https://localhost:8080/"
    },
    "id": "_ul223LE6_a5",
    "outputId": "3796553a-b44d-4981-d9e9-fd3372d5e10e",
    "scrolled": true
   },
   "outputs": [],
   "source": [
    "(X_train, y_train), (X_valid, y_valid) = mnist.load_data()"
   ]
  },
  {
   "cell_type": "markdown",
   "metadata": {},
   "source": [
    "### Sprawdźmy podstawowe cechy zbioru danych"
   ]
  },
  {
   "cell_type": "code",
   "execution_count": 38,
   "metadata": {
    "colab": {
     "base_uri": "https://localhost:8080/"
    },
    "id": "emvpQ-bf6_a5",
    "outputId": "99ca3e1e-e800-43fe-8ac7-b2107fed86a0"
   },
   "outputs": [
    {
     "data": {
      "text/plain": [
       "(60000, 28, 28)"
      ]
     },
     "execution_count": 38,
     "metadata": {},
     "output_type": "execute_result"
    }
   ],
   "source": [
    "X_train.shape"
   ]
  },
  {
   "cell_type": "code",
   "execution_count": 39,
   "metadata": {
    "colab": {
     "base_uri": "https://localhost:8080/"
    },
    "id": "7OxM-LzU6_a6",
    "outputId": "1e258ac5-abde-41bf-c4f6-769dc7929407"
   },
   "outputs": [
    {
     "data": {
      "text/plain": [
       "(60000,)"
      ]
     },
     "execution_count": 39,
     "metadata": {},
     "output_type": "execute_result"
    }
   ],
   "source": [
    "y_train.shape"
   ]
  },
  {
   "cell_type": "code",
   "execution_count": 40,
   "metadata": {
    "colab": {
     "base_uri": "https://localhost:8080/"
    },
    "id": "AjloksfO6_a6",
    "outputId": "a8f217ea-6e27-4541-85c8-86fec05778d9"
   },
   "outputs": [
    {
     "data": {
      "text/plain": [
       "array([5, 0, 4, 1, 9, 2, 1, 3, 1, 4, 3, 5], dtype=uint8)"
      ]
     },
     "execution_count": 40,
     "metadata": {},
     "output_type": "execute_result"
    }
   ],
   "source": [
    "y_train[0:12]"
   ]
  },
  {
   "cell_type": "code",
   "execution_count": 41,
   "metadata": {},
   "outputs": [
    {
     "data": {
      "text/plain": [
       "(10000, 28, 28)"
      ]
     },
     "execution_count": 41,
     "metadata": {},
     "output_type": "execute_result"
    }
   ],
   "source": [
    "X_valid.shape"
   ]
  },
  {
   "cell_type": "code",
   "execution_count": 42,
   "metadata": {},
   "outputs": [
    {
     "data": {
      "text/plain": [
       "(10000,)"
      ]
     },
     "execution_count": 42,
     "metadata": {},
     "output_type": "execute_result"
    }
   ],
   "source": [
    "y_valid.shape"
   ]
  },
  {
   "cell_type": "markdown",
   "metadata": {},
   "source": [
    "### Przejrzyjmy konkretne elementy zbioru danych"
   ]
  },
  {
   "cell_type": "code",
   "execution_count": 43,
   "metadata": {
    "colab": {
     "base_uri": "https://localhost:8080/",
     "height": 327
    },
    "id": "6ogokP4I6_a6",
    "outputId": "7f8c6066-aba9-4a9f-bfc0-b6e53ff9189c"
   },
   "outputs": [
    {
     "data": {
      "image/png": "[encoded data removed]",
      "text/plain": [
       "<Figure size 500x500 with 12 Axes>"
      ]
     },
     "metadata": {},
     "output_type": "display_data"
    }
   ],
   "source": [
    "plt.figure(figsize=(5,5))\n",
    "for k in range(12):\n",
    "    plt.subplot(3, 4, k+1)\n",
    "    plt.imshow(X_train[k], cmap='Greys')\n",
    "    plt.axis('off')\n",
    "plt.tight_layout()\n",
    "plt.show()"
   ]
  },
  {
   "cell_type": "code",
   "execution_count": 44,
   "metadata": {
    "colab": {
     "base_uri": "https://localhost:8080/",
     "height": 265
    },
    "id": "yIgMMMu-6_a7",
    "outputId": "2e398ab9-ace8-4b3d-c1e0-fabbb74dcd0c"
   },
   "outputs": [
    {
     "data": {
      "image/png": "[encoded data removed]",
      "text/plain": [
       "<Figure size 640x480 with 1 Axes>"
      ]
     },
     "metadata": {},
     "output_type": "display_data"
    }
   ],
   "source": [
    "_ = plt.imshow(X_valid[0], cmap='Greys')"
   ]
  },
  {
   "cell_type": "code",
   "execution_count": 45,
   "metadata": {
    "colab": {
     "base_uri": "https://localhost:8080/"
    },
    "id": "dG7hy3fG6_a8",
    "outputId": "9b059d04-1c5a-447e-dc78-06c2694b2b04"
   },
   "outputs": [
    {
     "data": {
      "text/plain": [
       "array([[  0,   0,   0,   0,   0,   0,   0,   0,   0,   0,   0,   0,   0,\n",
       "          0,   0,   0,   0,   0,   0,   0,   0,   0,   0,   0,   0,   0,\n",
       "          0,   0],\n",
       "       [  0,   0,   0,   0,   0,   0,   0,   0,   0,   0,   0,   0,   0,\n",
       "          0,   0,   0,   0,   0,   0,   0,   0,   0,   0,   0,   0,   0,\n",
       "          0,   0],\n",
       "       [  0,   0,   0,   0,   0,   0,   0,   0,   0,   0,   0,   0,   0,\n",
       "          0,   0,   0,   0,   0,   0,   0,   0,   0,   0,   0,   0,   0,\n",
       "          0,   0],\n",
       "       [  0,   0,   0,   0,   0,   0,   0,   0,   0,   0,   0,   0,   0,\n",
       "          0,   0,   0,   0,   0,   0,   0,   0,   0,   0,   0,   0,   0,\n",
       "          0,   0],\n",
       "       [  0,   0,   0,   0,   0,   0,   0,   0,   0,   0,   0,   0,   0,\n",
       "          0,   0,   0,   0,   0,   0,   0,   0,   0,   0,   0,   0,   0,\n",
       "          0,   0],\n",
       "       [  0,   0,   0,   0,   0,   0,   0,   0,   0,   0,   0,   0,   0,\n",
       "          0,   0,   0,   0,   0,   0,   0,   0,   0,   0,   0,   0,   0,\n",
       "          0,   0],\n",
       "       [  0,   0,   0,   0,   0,   0,   0,   0,   0,   0,   0,   0,   0,\n",
       "          0,   0,   0,   0,   0,   0,   0,   0,   0,   0,   0,   0,   0,\n",
       "          0,   0],\n",
       "       [  0,   0,   0,   0,   0,   0,  84, 185, 159, 151,  60,  36,   0,\n",
       "          0,   0,   0,   0,   0,   0,   0,   0,   0,   0,   0,   0,   0,\n",
       "          0,   0],\n",
       "       [  0,   0,   0,   0,   0,   0, 222, 254, 254, 254, 254, 241, 198,\n",
       "        198, 198, 198, 198, 198, 198, 198, 170,  52,   0,   0,   0,   0,\n",
       "          0,   0],\n",
       "       [  0,   0,   0,   0,   0,   0,  67, 114,  72, 114, 163, 227, 254,\n",
       "        225, 254, 254, 254, 250, 229, 254, 254, 140,   0,   0,   0,   0,\n",
       "          0,   0],\n",
       "       [  0,   0,   0,   0,   0,   0,   0,   0,   0,   0,   0,  17,  66,\n",
       "         14,  67,  67,  67,  59,  21, 236, 254, 106,   0,   0,   0,   0,\n",
       "          0,   0],\n",
       "       [  0,   0,   0,   0,   0,   0,   0,   0,   0,   0,   0,   0,   0,\n",
       "          0,   0,   0,   0,   0,  83, 253, 209,  18,   0,   0,   0,   0,\n",
       "          0,   0],\n",
       "       [  0,   0,   0,   0,   0,   0,   0,   0,   0,   0,   0,   0,   0,\n",
       "          0,   0,   0,   0,  22, 233, 255,  83,   0,   0,   0,   0,   0,\n",
       "          0,   0],\n",
       "       [  0,   0,   0,   0,   0,   0,   0,   0,   0,   0,   0,   0,   0,\n",
       "          0,   0,   0,   0, 129, 254, 238,  44,   0,   0,   0,   0,   0,\n",
       "          0,   0],\n",
       "       [  0,   0,   0,   0,   0,   0,   0,   0,   0,   0,   0,   0,   0,\n",
       "          0,   0,   0,  59, 249, 254,  62,   0,   0,   0,   0,   0,   0,\n",
       "          0,   0],\n",
       "       [  0,   0,   0,   0,   0,   0,   0,   0,   0,   0,   0,   0,   0,\n",
       "          0,   0,   0, 133, 254, 187,   5,   0,   0,   0,   0,   0,   0,\n",
       "          0,   0],\n",
       "       [  0,   0,   0,   0,   0,   0,   0,   0,   0,   0,   0,   0,   0,\n",
       "          0,   0,   9, 205, 248,  58,   0,   0,   0,   0,   0,   0,   0,\n",
       "          0,   0],\n",
       "       [  0,   0,   0,   0,   0,   0,   0,   0,   0,   0,   0,   0,   0,\n",
       "          0,   0, 126, 254, 182,   0,   0,   0,   0,   0,   0,   0,   0,\n",
       "          0,   0],\n",
       "       [  0,   0,   0,   0,   0,   0,   0,   0,   0,   0,   0,   0,   0,\n",
       "          0,  75, 251, 240,  57,   0,   0,   0,   0,   0,   0,   0,   0,\n",
       "          0,   0],\n",
       "       [  0,   0,   0,   0,   0,   0,   0,   0,   0,   0,   0,   0,   0,\n",
       "         19, 221, 254, 166,   0,   0,   0,   0,   0,   0,   0,   0,   0,\n",
       "          0,   0],\n",
       "       [  0,   0,   0,   0,   0,   0,   0,   0,   0,   0,   0,   0,   3,\n",
       "        203, 254, 219,  35,   0,   0,   0,   0,   0,   0,   0,   0,   0,\n",
       "          0,   0],\n",
       "       [  0,   0,   0,   0,   0,   0,   0,   0,   0,   0,   0,   0,  38,\n",
       "        254, 254,  77,   0,   0,   0,   0,   0,   0,   0,   0,   0,   0,\n",
       "          0,   0],\n",
       "       [  0,   0,   0,   0,   0,   0,   0,   0,   0,   0,   0,  31, 224,\n",
       "        254, 115,   1,   0,   0,   0,   0,   0,   0,   0,   0,   0,   0,\n",
       "          0,   0],\n",
       "       [  0,   0,   0,   0,   0,   0,   0,   0,   0,   0,   0, 133, 254,\n",
       "        254,  52,   0,   0,   0,   0,   0,   0,   0,   0,   0,   0,   0,\n",
       "          0,   0],\n",
       "       [  0,   0,   0,   0,   0,   0,   0,   0,   0,   0,  61, 242, 254,\n",
       "        254,  52,   0,   0,   0,   0,   0,   0,   0,   0,   0,   0,   0,\n",
       "          0,   0],\n",
       "       [  0,   0,   0,   0,   0,   0,   0,   0,   0,   0, 121, 254, 254,\n",
       "        219,  40,   0,   0,   0,   0,   0,   0,   0,   0,   0,   0,   0,\n",
       "          0,   0],\n",
       "       [  0,   0,   0,   0,   0,   0,   0,   0,   0,   0, 121, 254, 207,\n",
       "         18,   0,   0,   0,   0,   0,   0,   0,   0,   0,   0,   0,   0,\n",
       "          0,   0],\n",
       "       [  0,   0,   0,   0,   0,   0,   0,   0,   0,   0,   0,   0,   0,\n",
       "          0,   0,   0,   0,   0,   0,   0,   0,   0,   0,   0,   0,   0,\n",
       "          0,   0]], dtype=uint8)"
      ]
     },
     "execution_count": 45,
     "metadata": {},
     "output_type": "execute_result"
    }
   ],
   "source": [
    "X_valid[0]"
   ]
  },
  {
   "cell_type": "markdown",
   "metadata": {},
   "source": [
    "**Zadanie 1. Co reprezentują liczby w powyższej tablicy?**"
   ]
  },
  {
   "cell_type": "markdown",
   "metadata": {},
   "source": [
    "Odp:\n",
    "\n",
    "Każda liczba w tablicy reprezentuje wartość piksela obrazu w skali szarości. Wartości mieszczą się w zakresie od 0 (biały) do 255 (czarny)."
   ]
  },
  {
   "cell_type": "code",
   "execution_count": 46,
   "metadata": {
    "colab": {
     "base_uri": "https://localhost:8080/"
    },
    "id": "fAR385d56_a8",
    "outputId": "6a88ccb5-9526-46ec-9e59-c0b9fa9fcd89"
   },
   "outputs": [
    {
     "data": {
      "text/plain": [
       "7"
      ]
     },
     "execution_count": 46,
     "metadata": {},
     "output_type": "execute_result"
    }
   ],
   "source": [
    "y_valid[0]"
   ]
  },
  {
   "cell_type": "markdown",
   "metadata": {
    "id": "QCYuT40d6_a8"
   },
   "source": [
    "### Wykonajmy preprocessing danych"
   ]
  },
  {
   "cell_type": "markdown",
   "metadata": {},
   "source": [
    "Dokonamy zmiany postaci każdego dwuwymiarowego obrazka w jednowymiarową tablicę o rozmiarze równym liczbie pikseli, jednocześnie zamienimy liczby całkowite z zadania 1 w liczby zmiennoprzecinkowe, by móc je następnie znormalizować (czyli by znajdowały się w przedziale <0,1>."
   ]
  },
  {
   "cell_type": "code",
   "execution_count": 47,
   "metadata": {
    "id": "6Odu_77x6_a8"
   },
   "outputs": [],
   "source": [
    "X_train = X_train.reshape(60000, 784).astype('float32')\n",
    "X_valid = X_valid.reshape(10000, 784).astype('float32')"
   ]
  },
  {
   "cell_type": "markdown",
   "metadata": {},
   "source": [
    "**Zadanie 2. Znormalizuj wartości w zbiorze uczącym X_train i zbiorze walidującym X_valid**"
   ]
  },
  {
   "cell_type": "code",
   "execution_count": 48,
   "metadata": {
    "id": "TPz3rucK6_a9"
   },
   "outputs": [],
   "source": [
    "# Odp:\n",
    "max_value = X_train.max()\n",
    "\n",
    "X_train = X_train / max_value\n",
    "X_valid = X_valid / max_value"
   ]
  },
  {
   "cell_type": "code",
   "execution_count": 49,
   "metadata": {
    "colab": {
     "base_uri": "https://localhost:8080/"
    },
    "id": "dxLl0pCg6_a9",
    "outputId": "fde6ccec-2e09-4cb7-af5f-0eaa70e809a1"
   },
   "outputs": [
    {
     "data": {
      "text/plain": [
       "array([0.        , 0.        , 0.        , 0.        , 0.        ,\n",
       "       0.        , 0.        , 0.        , 0.        , 0.        ,\n",
       "       0.        , 0.        , 0.        , 0.        , 0.        ,\n",
       "       0.        , 0.        , 0.        , 0.        , 0.        ,\n",
       "       0.        , 0.        , 0.        , 0.        , 0.        ,\n",
       "       0.        , 0.        , 0.        , 0.        , 0.        ,\n",
       "       0.        , 0.        , 0.        , 0.        , 0.        ,\n",
       "       0.        , 0.        , 0.        , 0.        , 0.        ,\n",
       "       0.        , 0.        , 0.        , 0.        , 0.        ,\n",
       "       0.        , 0.        , 0.        , 0.        , 0.        ,\n",
       "       0.        , 0.        , 0.        , 0.        , 0.        ,\n",
       "       0.        , 0.        , 0.        , 0.        , 0.        ,\n",
       "       0.        , 0.        , 0.        , 0.        , 0.        ,\n",
       "       0.        , 0.        , 0.        , 0.        , 0.        ,\n",
       "       0.        , 0.        , 0.        , 0.        , 0.        ,\n",
       "       0.        , 0.        , 0.        , 0.        , 0.        ,\n",
       "       0.        , 0.        , 0.        , 0.        , 0.        ,\n",
       "       0.        , 0.        , 0.        , 0.        , 0.        ,\n",
       "       0.        , 0.        , 0.        , 0.        , 0.        ,\n",
       "       0.        , 0.        , 0.        , 0.        , 0.        ,\n",
       "       0.        , 0.        , 0.        , 0.        , 0.        ,\n",
       "       0.        , 0.        , 0.        , 0.        , 0.        ,\n",
       "       0.        , 0.        , 0.        , 0.        , 0.        ,\n",
       "       0.        , 0.        , 0.        , 0.        , 0.        ,\n",
       "       0.        , 0.        , 0.        , 0.        , 0.        ,\n",
       "       0.        , 0.        , 0.        , 0.        , 0.        ,\n",
       "       0.        , 0.        , 0.        , 0.        , 0.        ,\n",
       "       0.        , 0.        , 0.        , 0.        , 0.        ,\n",
       "       0.        , 0.        , 0.        , 0.        , 0.        ,\n",
       "       0.        , 0.        , 0.        , 0.        , 0.        ,\n",
       "       0.        , 0.        , 0.        , 0.        , 0.        ,\n",
       "       0.        , 0.        , 0.        , 0.        , 0.        ,\n",
       "       0.        , 0.        , 0.        , 0.        , 0.        ,\n",
       "       0.        , 0.        , 0.        , 0.        , 0.        ,\n",
       "       0.        , 0.        , 0.        , 0.        , 0.        ,\n",
       "       0.        , 0.        , 0.        , 0.        , 0.        ,\n",
       "       0.        , 0.        , 0.        , 0.        , 0.        ,\n",
       "       0.        , 0.        , 0.        , 0.        , 0.        ,\n",
       "       0.        , 0.        , 0.        , 0.        , 0.        ,\n",
       "       0.        , 0.        , 0.        , 0.        , 0.        ,\n",
       "       0.        , 0.        , 0.32941177, 0.7254902 , 0.62352943,\n",
       "       0.5921569 , 0.23529412, 0.14117648, 0.        , 0.        ,\n",
       "       0.        , 0.        , 0.        , 0.        , 0.        ,\n",
       "       0.        , 0.        , 0.        , 0.        , 0.        ,\n",
       "       0.        , 0.        , 0.        , 0.        , 0.        ,\n",
       "       0.        , 0.        , 0.        , 0.        , 0.        ,\n",
       "       0.87058824, 0.99607843, 0.99607843, 0.99607843, 0.99607843,\n",
       "       0.94509804, 0.7764706 , 0.7764706 , 0.7764706 , 0.7764706 ,\n",
       "       0.7764706 , 0.7764706 , 0.7764706 , 0.7764706 , 0.6666667 ,\n",
       "       0.20392157, 0.        , 0.        , 0.        , 0.        ,\n",
       "       0.        , 0.        , 0.        , 0.        , 0.        ,\n",
       "       0.        , 0.        , 0.        , 0.2627451 , 0.44705883,\n",
       "       0.28235295, 0.44705883, 0.6392157 , 0.8901961 , 0.99607843,\n",
       "       0.88235295, 0.99607843, 0.99607843, 0.99607843, 0.98039216,\n",
       "       0.8980392 , 0.99607843, 0.99607843, 0.54901963, 0.        ,\n",
       "       0.        , 0.        , 0.        , 0.        , 0.        ,\n",
       "       0.        , 0.        , 0.        , 0.        , 0.        ,\n",
       "       0.        , 0.        , 0.        , 0.        , 0.        ,\n",
       "       0.        , 0.06666667, 0.25882354, 0.05490196, 0.2627451 ,\n",
       "       0.2627451 , 0.2627451 , 0.23137255, 0.08235294, 0.9254902 ,\n",
       "       0.99607843, 0.41568628, 0.        , 0.        , 0.        ,\n",
       "       0.        , 0.        , 0.        , 0.        , 0.        ,\n",
       "       0.        , 0.        , 0.        , 0.        , 0.        ,\n",
       "       0.        , 0.        , 0.        , 0.        , 0.        ,\n",
       "       0.        , 0.        , 0.        , 0.        , 0.        ,\n",
       "       0.        , 0.3254902 , 0.99215686, 0.81960785, 0.07058824,\n",
       "       0.        , 0.        , 0.        , 0.        , 0.        ,\n",
       "       0.        , 0.        , 0.        , 0.        , 0.        ,\n",
       "       0.        , 0.        , 0.        , 0.        , 0.        ,\n",
       "       0.        , 0.        , 0.        , 0.        , 0.        ,\n",
       "       0.        , 0.        , 0.        , 0.08627451, 0.9137255 ,\n",
       "       1.        , 0.3254902 , 0.        , 0.        , 0.        ,\n",
       "       0.        , 0.        , 0.        , 0.        , 0.        ,\n",
       "       0.        , 0.        , 0.        , 0.        , 0.        ,\n",
       "       0.        , 0.        , 0.        , 0.        , 0.        ,\n",
       "       0.        , 0.        , 0.        , 0.        , 0.        ,\n",
       "       0.        , 0.5058824 , 0.99607843, 0.93333334, 0.17254902,\n",
       "       0.        , 0.        , 0.        , 0.        , 0.        ,\n",
       "       0.        , 0.        , 0.        , 0.        , 0.        ,\n",
       "       0.        , 0.        , 0.        , 0.        , 0.        ,\n",
       "       0.        , 0.        , 0.        , 0.        , 0.        ,\n",
       "       0.        , 0.        , 0.        , 0.23137255, 0.9764706 ,\n",
       "       0.99607843, 0.24313726, 0.        , 0.        , 0.        ,\n",
       "       0.        , 0.        , 0.        , 0.        , 0.        ,\n",
       "       0.        , 0.        , 0.        , 0.        , 0.        ,\n",
       "       0.        , 0.        , 0.        , 0.        , 0.        ,\n",
       "       0.        , 0.        , 0.        , 0.        , 0.        ,\n",
       "       0.        , 0.52156866, 0.99607843, 0.73333335, 0.01960784,\n",
       "       0.        , 0.        , 0.        , 0.        , 0.        ,\n",
       "       0.        , 0.        , 0.        , 0.        , 0.        ,\n",
       "       0.        , 0.        , 0.        , 0.        , 0.        ,\n",
       "       0.        , 0.        , 0.        , 0.        , 0.        ,\n",
       "       0.        , 0.        , 0.        , 0.03529412, 0.8039216 ,\n",
       "       0.972549  , 0.22745098, 0.        , 0.        , 0.        ,\n",
       "       0.        , 0.        , 0.        , 0.        , 0.        ,\n",
       "       0.        , 0.        , 0.        , 0.        , 0.        ,\n",
       "       0.        , 0.        , 0.        , 0.        , 0.        ,\n",
       "       0.        , 0.        , 0.        , 0.        , 0.        ,\n",
       "       0.        , 0.49411765, 0.99607843, 0.7137255 , 0.        ,\n",
       "       0.        , 0.        , 0.        , 0.        , 0.        ,\n",
       "       0.        , 0.        , 0.        , 0.        , 0.        ,\n",
       "       0.        , 0.        , 0.        , 0.        , 0.        ,\n",
       "       0.        , 0.        , 0.        , 0.        , 0.        ,\n",
       "       0.        , 0.        , 0.        , 0.29411766, 0.9843137 ,\n",
       "       0.9411765 , 0.22352941, 0.        , 0.        , 0.        ,\n",
       "       0.        , 0.        , 0.        , 0.        , 0.        ,\n",
       "       0.        , 0.        , 0.        , 0.        , 0.        ,\n",
       "       0.        , 0.        , 0.        , 0.        , 0.        ,\n",
       "       0.        , 0.        , 0.        , 0.        , 0.        ,\n",
       "       0.07450981, 0.8666667 , 0.99607843, 0.6509804 , 0.        ,\n",
       "       0.        , 0.        , 0.        , 0.        , 0.        ,\n",
       "       0.        , 0.        , 0.        , 0.        , 0.        ,\n",
       "       0.        , 0.        , 0.        , 0.        , 0.        ,\n",
       "       0.        , 0.        , 0.        , 0.        , 0.        ,\n",
       "       0.        , 0.        , 0.01176471, 0.79607844, 0.99607843,\n",
       "       0.85882354, 0.13725491, 0.        , 0.        , 0.        ,\n",
       "       0.        , 0.        , 0.        , 0.        , 0.        ,\n",
       "       0.        , 0.        , 0.        , 0.        , 0.        ,\n",
       "       0.        , 0.        , 0.        , 0.        , 0.        ,\n",
       "       0.        , 0.        , 0.        , 0.        , 0.        ,\n",
       "       0.14901961, 0.99607843, 0.99607843, 0.3019608 , 0.        ,\n",
       "       0.        , 0.        , 0.        , 0.        , 0.        ,\n",
       "       0.        , 0.        , 0.        , 0.        , 0.        ,\n",
       "       0.        , 0.        , 0.        , 0.        , 0.        ,\n",
       "       0.        , 0.        , 0.        , 0.        , 0.        ,\n",
       "       0.        , 0.        , 0.12156863, 0.8784314 , 0.99607843,\n",
       "       0.4509804 , 0.00392157, 0.        , 0.        , 0.        ,\n",
       "       0.        , 0.        , 0.        , 0.        , 0.        ,\n",
       "       0.        , 0.        , 0.        , 0.        , 0.        ,\n",
       "       0.        , 0.        , 0.        , 0.        , 0.        ,\n",
       "       0.        , 0.        , 0.        , 0.        , 0.        ,\n",
       "       0.52156866, 0.99607843, 0.99607843, 0.20392157, 0.        ,\n",
       "       0.        , 0.        , 0.        , 0.        , 0.        ,\n",
       "       0.        , 0.        , 0.        , 0.        , 0.        ,\n",
       "       0.        , 0.        , 0.        , 0.        , 0.        ,\n",
       "       0.        , 0.        , 0.        , 0.        , 0.        ,\n",
       "       0.        , 0.        , 0.23921569, 0.9490196 , 0.99607843,\n",
       "       0.99607843, 0.20392157, 0.        , 0.        , 0.        ,\n",
       "       0.        , 0.        , 0.        , 0.        , 0.        ,\n",
       "       0.        , 0.        , 0.        , 0.        , 0.        ,\n",
       "       0.        , 0.        , 0.        , 0.        , 0.        ,\n",
       "       0.        , 0.        , 0.        , 0.        , 0.        ,\n",
       "       0.4745098 , 0.99607843, 0.99607843, 0.85882354, 0.15686275,\n",
       "       0.        , 0.        , 0.        , 0.        , 0.        ,\n",
       "       0.        , 0.        , 0.        , 0.        , 0.        ,\n",
       "       0.        , 0.        , 0.        , 0.        , 0.        ,\n",
       "       0.        , 0.        , 0.        , 0.        , 0.        ,\n",
       "       0.        , 0.        , 0.        , 0.4745098 , 0.99607843,\n",
       "       0.8117647 , 0.07058824, 0.        , 0.        , 0.        ,\n",
       "       0.        , 0.        , 0.        , 0.        , 0.        ,\n",
       "       0.        , 0.        , 0.        , 0.        , 0.        ,\n",
       "       0.        , 0.        , 0.        , 0.        , 0.        ,\n",
       "       0.        , 0.        , 0.        , 0.        , 0.        ,\n",
       "       0.        , 0.        , 0.        , 0.        , 0.        ,\n",
       "       0.        , 0.        , 0.        , 0.        , 0.        ,\n",
       "       0.        , 0.        , 0.        , 0.        , 0.        ,\n",
       "       0.        , 0.        , 0.        , 0.        ], dtype=float32)"
      ]
     },
     "execution_count": 49,
     "metadata": {},
     "output_type": "execute_result"
    }
   ],
   "source": [
    "X_valid[0]"
   ]
  },
  {
   "cell_type": "markdown",
   "metadata": {},
   "source": [
    "Następnie deklarujemy liczbę możliwych klas i konwertujemy etykiety na kategorie poprzez tzw. one-hot encoding"
   ]
  },
  {
   "cell_type": "code",
   "execution_count": 50,
   "metadata": {
    "id": "tv3n3itV6_a9"
   },
   "outputs": [],
   "source": [
    "n_classes = 10\n",
    "y_train = to_categorical(y_train, n_classes)\n",
    "y_valid = to_categorical(y_valid, n_classes)"
   ]
  },
  {
   "cell_type": "code",
   "execution_count": 51,
   "metadata": {
    "colab": {
     "base_uri": "https://localhost:8080/"
    },
    "id": "NYkE_jXi6_a9",
    "outputId": "b4138dcd-e9e6-4460-bcda-4c5d0d12373f"
   },
   "outputs": [
    {
     "data": {
      "text/plain": [
       "array([0., 0., 0., 0., 0., 0., 0., 1., 0., 0.], dtype=float32)"
      ]
     },
     "execution_count": 51,
     "metadata": {},
     "output_type": "execute_result"
    }
   ],
   "source": [
    "y_valid[0]"
   ]
  },
  {
   "cell_type": "markdown",
   "metadata": {
    "id": "IKupjM0z6_a9"
   },
   "source": [
    "### Zaprojektujmy architekturę sieci"
   ]
  },
  {
   "cell_type": "code",
   "execution_count": 52,
   "metadata": {
    "id": "1KkhUt-m6_a-"
   },
   "outputs": [],
   "source": [
    "model = Sequential()\n",
    "model.add(Dense(64, activation='sigmoid', input_shape=(784,)))\n",
    "model.add(Dense(10, activation='softmax'))"
   ]
  },
  {
   "cell_type": "markdown",
   "metadata": {},
   "source": [
    "Sieć ma 3 warstwy: \n",
    "\n",
    "    - wejściową o 784 neuronach, po jednym dla każdego piksela obrazu\n",
    "    \n",
    "    - ukrytą warstwą gęstą (inaczej mówiąc - w pełni połączoną, w której wszystkie neurony połączone są ze wszystkimi z warstwy wcześniejszej), zbudowaną z 64 neuronów sigmoidalnych\n",
    "    \n",
    "    - wyjściową, również gęstą, zbudowaną z 10-neuronowej warstwy softmax, po jednym dla każdej kategorii cyfr (0-9)"
   ]
  },
  {
   "cell_type": "code",
   "execution_count": 53,
   "metadata": {
    "colab": {
     "base_uri": "https://localhost:8080/"
    },
    "id": "d1__QwQt6_a-",
    "outputId": "84c1d19b-5b3a-468c-ec77-622c52926fe8"
   },
   "outputs": [
    {
     "name": "stdout",
     "output_type": "stream",
     "text": [
      "Model: \"sequential_2\"\n",
      "_________________________________________________________________\n",
      " Layer (type)                Output Shape              Param #   \n",
      "=================================================================\n",
      " dense_4 (Dense)             (None, 64)                50240     \n",
      "                                                                 \n",
      " dense_5 (Dense)             (None, 10)                650       \n",
      "                                                                 \n",
      "=================================================================\n",
      "Total params: 50890 (198.79 KB)\n",
      "Trainable params: 50890 (198.79 KB)\n",
      "Non-trainable params: 0 (0.00 Byte)\n",
      "_________________________________________________________________\n"
     ]
    }
   ],
   "source": [
    "model.summary()"
   ]
  },
  {
   "cell_type": "markdown",
   "metadata": {},
   "source": [
    "**Zadanie 3. Wyjaśnij podaną w podsumowaniu modelu liczbę parametrów warstw: 50240 i 650**"
   ]
  },
  {
   "cell_type": "markdown",
   "metadata": {},
   "source": [
    "Odp:\n",
    "\n",
    "Liczby 50240 i 650 reprezentują liczbę możliwych do wytrenowania parametrów w poszczególnych warstwach modelu sieci neuronowej.\n",
    "\n",
    "(liczba jednostek wejściowych + 1) * liczba jednostek wyjściowych:\n",
    "\n",
    "(784 + 1 ) * 64 = 50240\n",
    "\n",
    "(64 + 1) * 10 = 650"
   ]
  },
  {
   "cell_type": "markdown",
   "metadata": {
    "id": "2TSjHfhi6_a-"
   },
   "source": [
    "### Skompilujmy i skonfigurujmy przygotowany model"
   ]
  },
  {
   "cell_type": "code",
   "execution_count": 54,
   "metadata": {},
   "outputs": [],
   "source": [
    "lr = 0.01"
   ]
  },
  {
   "cell_type": "code",
   "execution_count": 55,
   "metadata": {
    "colab": {
     "base_uri": "https://localhost:8080/"
    },
    "id": "aT02wHcd6_a-",
    "outputId": "aadbb7d1-7697-4cfb-8ab8-268ca1c35d53"
   },
   "outputs": [],
   "source": [
    "model.compile(loss='mean_squared_error', optimizer=SGD(learning_rate=lr), metrics=['accuracy'])"
   ]
  },
  {
   "cell_type": "markdown",
   "metadata": {},
   "source": [
    "Sieć będzie się uczyć na bazie średniokwadrartowej funkcji straty, a metodą minimalizacji funkcji kosztu będzie SGD"
   ]
  },
  {
   "cell_type": "markdown",
   "metadata": {},
   "source": [
    "### Przygotujmy środowisko tensorboard do wizualizacji wyników"
   ]
  },
  {
   "cell_type": "code",
   "execution_count": 56,
   "metadata": {},
   "outputs": [],
   "source": [
    "import datetime\n",
    "log_dir = \"logs/fit/\" + datetime.datetime.now().strftime(\"%Y%m%d-%H%M%S\") # tworzymy lokalizację, w której utworzą się logi\n",
    "tensorboard_callback = tensorflow.keras.callbacks.TensorBoard(log_dir=log_dir, histogram_freq=1) # tensorboard jest dodany do procesu uczenia jako callback"
   ]
  },
  {
   "cell_type": "markdown",
   "metadata": {
    "id": "hF4I2Zou6_a-"
   },
   "source": [
    "### W końcu nauczmy sieć"
   ]
  },
  {
   "cell_type": "markdown",
   "metadata": {},
   "source": [
    "Wykorzystujemy dane wejściowe treningowe X_train i powiązane etykiety y_train, uczymy w 200 epokach (200 przejść przez wszystkie dane uczące), na 128-obrazkowych paczkach, skuteczność uczenia sprawdzamy już w trakcie uczenia poprzez podanie zbioru walidującego. Chcemy otrzymać wszystkie informacje w trakcie uczenia, stąd argument verbose otrzymuje wartość 1."
   ]
  },
  {
   "cell_type": "code",
   "execution_count": 57,
   "metadata": {
    "colab": {
     "base_uri": "https://localhost:8080/"
    },
    "id": "DRWqGssx6_a_",
    "outputId": "6fbc79a3-ac96-4068-bc3c-2ddee8c01fae",
    "scrolled": true
   },
   "outputs": [
    {
     "name": "stdout",
     "output_type": "stream",
     "text": [
      "Epoch 1/200\n"
     ]
    },
    {
     "name": "stdout",
     "output_type": "stream",
     "text": [
      "469/469 [==============================] - 1s 1ms/step - loss: 0.0942 - accuracy: 0.0924 - val_loss: 0.0926 - val_accuracy: 0.1009\n",
      "Epoch 2/200\n",
      "469/469 [==============================] - 1s 1ms/step - loss: 0.0920 - accuracy: 0.1080 - val_loss: 0.0914 - val_accuracy: 0.1222\n",
      "Epoch 3/200\n",
      "469/469 [==============================] - 1s 1ms/step - loss: 0.0911 - accuracy: 0.1218 - val_loss: 0.0908 - val_accuracy: 0.1315\n",
      "Epoch 4/200\n",
      "469/469 [==============================] - 1s 1ms/step - loss: 0.0906 - accuracy: 0.1276 - val_loss: 0.0903 - val_accuracy: 0.1383\n",
      "Epoch 5/200\n",
      "469/469 [==============================] - 1s 1ms/step - loss: 0.0901 - accuracy: 0.1349 - val_loss: 0.0899 - val_accuracy: 0.1489\n",
      "Epoch 6/200\n",
      "469/469 [==============================] - 1s 1ms/step - loss: 0.0898 - accuracy: 0.1503 - val_loss: 0.0896 - val_accuracy: 0.1708\n",
      "Epoch 7/200\n",
      "469/469 [==============================] - 0s 1ms/step - loss: 0.0895 - accuracy: 0.1704 - val_loss: 0.0893 - val_accuracy: 0.1939\n",
      "Epoch 8/200\n",
      "469/469 [==============================] - 0s 1ms/step - loss: 0.0892 - accuracy: 0.1962 - val_loss: 0.0890 - val_accuracy: 0.2245\n",
      "Epoch 9/200\n",
      "469/469 [==============================] - 0s 1ms/step - loss: 0.0889 - accuracy: 0.2266 - val_loss: 0.0887 - val_accuracy: 0.2605\n",
      "Epoch 10/200\n",
      "469/469 [==============================] - 1s 1ms/step - loss: 0.0886 - accuracy: 0.2666 - val_loss: 0.0884 - val_accuracy: 0.3115\n",
      "Epoch 11/200\n",
      "469/469 [==============================] - 1s 1ms/step - loss: 0.0884 - accuracy: 0.3150 - val_loss: 0.0882 - val_accuracy: 0.3607\n",
      "Epoch 12/200\n",
      "469/469 [==============================] - 0s 1ms/step - loss: 0.0881 - accuracy: 0.3581 - val_loss: 0.0879 - val_accuracy: 0.3971\n",
      "Epoch 13/200\n",
      "469/469 [==============================] - 0s 1ms/step - loss: 0.0878 - accuracy: 0.3886 - val_loss: 0.0876 - val_accuracy: 0.4178\n",
      "Epoch 14/200\n",
      "469/469 [==============================] - 1s 1ms/step - loss: 0.0876 - accuracy: 0.4068 - val_loss: 0.0874 - val_accuracy: 0.4323\n",
      "Epoch 15/200\n",
      "469/469 [==============================] - 1s 1ms/step - loss: 0.0873 - accuracy: 0.4190 - val_loss: 0.0871 - val_accuracy: 0.4386\n",
      "Epoch 16/200\n",
      "469/469 [==============================] - 0s 1ms/step - loss: 0.0870 - accuracy: 0.4291 - val_loss: 0.0868 - val_accuracy: 0.4468\n",
      "Epoch 17/200\n",
      "469/469 [==============================] - 1s 1ms/step - loss: 0.0867 - accuracy: 0.4360 - val_loss: 0.0865 - val_accuracy: 0.4543\n",
      "Epoch 18/200\n",
      "469/469 [==============================] - 1s 1ms/step - loss: 0.0865 - accuracy: 0.4412 - val_loss: 0.0862 - val_accuracy: 0.4589\n",
      "Epoch 19/200\n",
      "469/469 [==============================] - 0s 1ms/step - loss: 0.0862 - accuracy: 0.4481 - val_loss: 0.0859 - val_accuracy: 0.4666\n",
      "Epoch 20/200\n",
      "469/469 [==============================] - 0s 1ms/step - loss: 0.0859 - accuracy: 0.4532 - val_loss: 0.0856 - val_accuracy: 0.4725\n",
      "Epoch 21/200\n",
      "469/469 [==============================] - 0s 1ms/step - loss: 0.0856 - accuracy: 0.4593 - val_loss: 0.0853 - val_accuracy: 0.4773\n",
      "Epoch 22/200\n",
      "469/469 [==============================] - 0s 1ms/step - loss: 0.0853 - accuracy: 0.4645 - val_loss: 0.0850 - val_accuracy: 0.4797\n",
      "Epoch 23/200\n",
      "469/469 [==============================] - 0s 1ms/step - loss: 0.0850 - accuracy: 0.4686 - val_loss: 0.0847 - val_accuracy: 0.4842\n",
      "Epoch 24/200\n",
      "469/469 [==============================] - 1s 1ms/step - loss: 0.0846 - accuracy: 0.4718 - val_loss: 0.0843 - val_accuracy: 0.4872\n",
      "Epoch 25/200\n",
      "469/469 [==============================] - 1s 1ms/step - loss: 0.0843 - accuracy: 0.4757 - val_loss: 0.0840 - val_accuracy: 0.4913\n",
      "Epoch 26/200\n",
      "469/469 [==============================] - 1s 1ms/step - loss: 0.0840 - accuracy: 0.4797 - val_loss: 0.0837 - val_accuracy: 0.4930\n",
      "Epoch 27/200\n",
      "469/469 [==============================] - 0s 1ms/step - loss: 0.0836 - accuracy: 0.4810 - val_loss: 0.0833 - val_accuracy: 0.4958\n",
      "Epoch 28/200\n",
      "469/469 [==============================] - 0s 1ms/step - loss: 0.0833 - accuracy: 0.4841 - val_loss: 0.0829 - val_accuracy: 0.4966\n",
      "Epoch 29/200\n",
      "469/469 [==============================] - 0s 1ms/step - loss: 0.0829 - accuracy: 0.4865 - val_loss: 0.0825 - val_accuracy: 0.4975\n",
      "Epoch 30/200\n",
      "469/469 [==============================] - 0s 1ms/step - loss: 0.0825 - accuracy: 0.4884 - val_loss: 0.0822 - val_accuracy: 0.5005\n",
      "Epoch 31/200\n",
      "469/469 [==============================] - 1s 1ms/step - loss: 0.0821 - accuracy: 0.4911 - val_loss: 0.0818 - val_accuracy: 0.5027\n",
      "Epoch 32/200\n",
      "469/469 [==============================] - 0s 1ms/step - loss: 0.0817 - accuracy: 0.4928 - val_loss: 0.0814 - val_accuracy: 0.5045\n",
      "Epoch 33/200\n",
      "469/469 [==============================] - 0s 1ms/step - loss: 0.0813 - accuracy: 0.4954 - val_loss: 0.0809 - val_accuracy: 0.5069\n",
      "Epoch 34/200\n",
      "469/469 [==============================] - 0s 1ms/step - loss: 0.0809 - accuracy: 0.4984 - val_loss: 0.0805 - val_accuracy: 0.5091\n",
      "Epoch 35/200\n",
      "469/469 [==============================] - 0s 1ms/step - loss: 0.0805 - accuracy: 0.5006 - val_loss: 0.0801 - val_accuracy: 0.5121\n",
      "Epoch 36/200\n",
      "469/469 [==============================] - 0s 1ms/step - loss: 0.0801 - accuracy: 0.5038 - val_loss: 0.0796 - val_accuracy: 0.5144\n",
      "Epoch 37/200\n",
      "469/469 [==============================] - 0s 1ms/step - loss: 0.0796 - accuracy: 0.5067 - val_loss: 0.0792 - val_accuracy: 0.5168\n",
      "Epoch 38/200\n",
      "469/469 [==============================] - 1s 1ms/step - loss: 0.0792 - accuracy: 0.5088 - val_loss: 0.0787 - val_accuracy: 0.5201\n",
      "Epoch 39/200\n",
      "469/469 [==============================] - 0s 1ms/step - loss: 0.0787 - accuracy: 0.5122 - val_loss: 0.0782 - val_accuracy: 0.5228\n",
      "Epoch 40/200\n",
      "469/469 [==============================] - 0s 1ms/step - loss: 0.0783 - accuracy: 0.5154 - val_loss: 0.0778 - val_accuracy: 0.5273\n",
      "Epoch 41/200\n",
      "469/469 [==============================] - 1s 1ms/step - loss: 0.0778 - accuracy: 0.5196 - val_loss: 0.0773 - val_accuracy: 0.5299\n",
      "Epoch 42/200\n",
      "469/469 [==============================] - 0s 1ms/step - loss: 0.0773 - accuracy: 0.5230 - val_loss: 0.0768 - val_accuracy: 0.5340\n",
      "Epoch 43/200\n",
      "469/469 [==============================] - 0s 1ms/step - loss: 0.0768 - accuracy: 0.5268 - val_loss: 0.0763 - val_accuracy: 0.5373\n",
      "Epoch 44/200\n",
      "469/469 [==============================] - 0s 1ms/step - loss: 0.0763 - accuracy: 0.5308 - val_loss: 0.0758 - val_accuracy: 0.5404\n",
      "Epoch 45/200\n",
      "469/469 [==============================] - 1s 1ms/step - loss: 0.0758 - accuracy: 0.5340 - val_loss: 0.0753 - val_accuracy: 0.5435\n",
      "Epoch 46/200\n",
      "469/469 [==============================] - 1s 1ms/step - loss: 0.0753 - accuracy: 0.5378 - val_loss: 0.0748 - val_accuracy: 0.5480\n",
      "Epoch 47/200\n",
      "469/469 [==============================] - 0s 1ms/step - loss: 0.0748 - accuracy: 0.5415 - val_loss: 0.0742 - val_accuracy: 0.5513\n",
      "Epoch 48/200\n",
      "469/469 [==============================] - 0s 1ms/step - loss: 0.0743 - accuracy: 0.5459 - val_loss: 0.0737 - val_accuracy: 0.5544\n",
      "Epoch 49/200\n",
      "469/469 [==============================] - 0s 1ms/step - loss: 0.0738 - accuracy: 0.5497 - val_loss: 0.0732 - val_accuracy: 0.5588\n",
      "Epoch 50/200\n",
      "469/469 [==============================] - 1s 1ms/step - loss: 0.0732 - accuracy: 0.5539 - val_loss: 0.0726 - val_accuracy: 0.5622\n",
      "Epoch 51/200\n",
      "469/469 [==============================] - 1s 1ms/step - loss: 0.0727 - accuracy: 0.5579 - val_loss: 0.0721 - val_accuracy: 0.5661\n",
      "Epoch 52/200\n",
      "469/469 [==============================] - 1s 1ms/step - loss: 0.0722 - accuracy: 0.5615 - val_loss: 0.0716 - val_accuracy: 0.5688\n",
      "Epoch 53/200\n",
      "469/469 [==============================] - 1s 1ms/step - loss: 0.0716 - accuracy: 0.5656 - val_loss: 0.0710 - val_accuracy: 0.5721\n",
      "Epoch 54/200\n",
      "469/469 [==============================] - 0s 1ms/step - loss: 0.0711 - accuracy: 0.5691 - val_loss: 0.0705 - val_accuracy: 0.5750\n",
      "Epoch 55/200\n",
      "469/469 [==============================] - 0s 1ms/step - loss: 0.0706 - accuracy: 0.5724 - val_loss: 0.0699 - val_accuracy: 0.5790\n",
      "Epoch 56/200\n",
      "469/469 [==============================] - 1s 1ms/step - loss: 0.0700 - accuracy: 0.5763 - val_loss: 0.0694 - val_accuracy: 0.5839\n",
      "Epoch 57/200\n",
      "469/469 [==============================] - 0s 1ms/step - loss: 0.0695 - accuracy: 0.5795 - val_loss: 0.0689 - val_accuracy: 0.5867\n",
      "Epoch 58/200\n",
      "469/469 [==============================] - 1s 1ms/step - loss: 0.0690 - accuracy: 0.5824 - val_loss: 0.0683 - val_accuracy: 0.5898\n",
      "Epoch 59/200\n",
      "469/469 [==============================] - 0s 1ms/step - loss: 0.0684 - accuracy: 0.5855 - val_loss: 0.0678 - val_accuracy: 0.5938\n",
      "Epoch 60/200\n",
      "469/469 [==============================] - 0s 1ms/step - loss: 0.0679 - accuracy: 0.5894 - val_loss: 0.0672 - val_accuracy: 0.5960\n",
      "Epoch 61/200\n",
      "469/469 [==============================] - 1s 1ms/step - loss: 0.0674 - accuracy: 0.5918 - val_loss: 0.0667 - val_accuracy: 0.5985\n",
      "Epoch 62/200\n",
      "469/469 [==============================] - 0s 1ms/step - loss: 0.0668 - accuracy: 0.5945 - val_loss: 0.0662 - val_accuracy: 0.6003\n",
      "Epoch 63/200\n",
      "469/469 [==============================] - 1s 1ms/step - loss: 0.0663 - accuracy: 0.5977 - val_loss: 0.0656 - val_accuracy: 0.6015\n",
      "Epoch 64/200\n",
      "469/469 [==============================] - 1s 1ms/step - loss: 0.0658 - accuracy: 0.6003 - val_loss: 0.0651 - val_accuracy: 0.6038\n",
      "Epoch 65/200\n",
      "469/469 [==============================] - 1s 1ms/step - loss: 0.0653 - accuracy: 0.6022 - val_loss: 0.0646 - val_accuracy: 0.6060\n",
      "Epoch 66/200\n",
      "469/469 [==============================] - 1s 1ms/step - loss: 0.0647 - accuracy: 0.6042 - val_loss: 0.0640 - val_accuracy: 0.6076\n",
      "Epoch 67/200\n",
      "469/469 [==============================] - 1s 1ms/step - loss: 0.0642 - accuracy: 0.6065 - val_loss: 0.0635 - val_accuracy: 0.6092\n",
      "Epoch 68/200\n",
      "469/469 [==============================] - 0s 1ms/step - loss: 0.0637 - accuracy: 0.6084 - val_loss: 0.0630 - val_accuracy: 0.6112\n",
      "Epoch 69/200\n",
      "469/469 [==============================] - 1s 1ms/step - loss: 0.0632 - accuracy: 0.6103 - val_loss: 0.0625 - val_accuracy: 0.6135\n",
      "Epoch 70/200\n",
      "469/469 [==============================] - 1s 1ms/step - loss: 0.0627 - accuracy: 0.6122 - val_loss: 0.0620 - val_accuracy: 0.6157\n",
      "Epoch 71/200\n",
      "469/469 [==============================] - 1s 1ms/step - loss: 0.0622 - accuracy: 0.6139 - val_loss: 0.0615 - val_accuracy: 0.6170\n",
      "Epoch 72/200\n",
      "469/469 [==============================] - 1s 1ms/step - loss: 0.0617 - accuracy: 0.6158 - val_loss: 0.0610 - val_accuracy: 0.6186\n",
      "Epoch 73/200\n",
      "469/469 [==============================] - 1s 1ms/step - loss: 0.0612 - accuracy: 0.6176 - val_loss: 0.0605 - val_accuracy: 0.6201\n",
      "Epoch 74/200\n",
      "469/469 [==============================] - 1s 1ms/step - loss: 0.0608 - accuracy: 0.6189 - val_loss: 0.0600 - val_accuracy: 0.6216\n",
      "Epoch 75/200\n",
      "469/469 [==============================] - 1s 1ms/step - loss: 0.0603 - accuracy: 0.6205 - val_loss: 0.0596 - val_accuracy: 0.6229\n",
      "Epoch 76/200\n",
      "469/469 [==============================] - 1s 1ms/step - loss: 0.0598 - accuracy: 0.6218 - val_loss: 0.0591 - val_accuracy: 0.6238\n",
      "Epoch 77/200\n",
      "469/469 [==============================] - 1s 1ms/step - loss: 0.0594 - accuracy: 0.6231 - val_loss: 0.0586 - val_accuracy: 0.6250\n",
      "Epoch 78/200\n",
      "469/469 [==============================] - 1s 1ms/step - loss: 0.0589 - accuracy: 0.6250 - val_loss: 0.0582 - val_accuracy: 0.6262\n",
      "Epoch 79/200\n",
      "469/469 [==============================] - 1s 1ms/step - loss: 0.0584 - accuracy: 0.6265 - val_loss: 0.0577 - val_accuracy: 0.6282\n",
      "Epoch 80/200\n",
      "469/469 [==============================] - 1s 1ms/step - loss: 0.0580 - accuracy: 0.6278 - val_loss: 0.0573 - val_accuracy: 0.6294\n",
      "Epoch 81/200\n",
      "469/469 [==============================] - 1s 1ms/step - loss: 0.0576 - accuracy: 0.6296 - val_loss: 0.0568 - val_accuracy: 0.6313\n",
      "Epoch 82/200\n",
      "469/469 [==============================] - 1s 1ms/step - loss: 0.0571 - accuracy: 0.6312 - val_loss: 0.0564 - val_accuracy: 0.6334\n",
      "Epoch 83/200\n",
      "469/469 [==============================] - 1s 1ms/step - loss: 0.0567 - accuracy: 0.6329 - val_loss: 0.0560 - val_accuracy: 0.6358\n",
      "Epoch 84/200\n",
      "469/469 [==============================] - 1s 1ms/step - loss: 0.0563 - accuracy: 0.6345 - val_loss: 0.0555 - val_accuracy: 0.6375\n",
      "Epoch 85/200\n",
      "469/469 [==============================] - 1s 1ms/step - loss: 0.0558 - accuracy: 0.6364 - val_loss: 0.0551 - val_accuracy: 0.6397\n",
      "Epoch 86/200\n",
      "469/469 [==============================] - 1s 1ms/step - loss: 0.0554 - accuracy: 0.6379 - val_loss: 0.0547 - val_accuracy: 0.6418\n",
      "Epoch 87/200\n",
      "469/469 [==============================] - 1s 1ms/step - loss: 0.0550 - accuracy: 0.6399 - val_loss: 0.0543 - val_accuracy: 0.6438\n",
      "Epoch 88/200\n",
      "469/469 [==============================] - 1s 1ms/step - loss: 0.0546 - accuracy: 0.6424 - val_loss: 0.0539 - val_accuracy: 0.6468\n",
      "Epoch 89/200\n",
      "469/469 [==============================] - 1s 1ms/step - loss: 0.0542 - accuracy: 0.6445 - val_loss: 0.0535 - val_accuracy: 0.6493\n",
      "Epoch 90/200\n",
      "469/469 [==============================] - 1s 1ms/step - loss: 0.0538 - accuracy: 0.6472 - val_loss: 0.0531 - val_accuracy: 0.6520\n",
      "Epoch 91/200\n",
      "469/469 [==============================] - 1s 1ms/step - loss: 0.0535 - accuracy: 0.6499 - val_loss: 0.0527 - val_accuracy: 0.6536\n",
      "Epoch 92/200\n",
      "469/469 [==============================] - 1s 1ms/step - loss: 0.0531 - accuracy: 0.6527 - val_loss: 0.0523 - val_accuracy: 0.6561\n",
      "Epoch 93/200\n",
      "469/469 [==============================] - 1s 1ms/step - loss: 0.0527 - accuracy: 0.6551 - val_loss: 0.0519 - val_accuracy: 0.6595\n",
      "Epoch 94/200\n",
      "469/469 [==============================] - 1s 1ms/step - loss: 0.0523 - accuracy: 0.6583 - val_loss: 0.0516 - val_accuracy: 0.6625\n",
      "Epoch 95/200\n",
      "469/469 [==============================] - 1s 1ms/step - loss: 0.0520 - accuracy: 0.6611 - val_loss: 0.0512 - val_accuracy: 0.6660\n",
      "Epoch 96/200\n",
      "469/469 [==============================] - 1s 1ms/step - loss: 0.0516 - accuracy: 0.6646 - val_loss: 0.0508 - val_accuracy: 0.6686\n",
      "Epoch 97/200\n",
      "469/469 [==============================] - 1s 1ms/step - loss: 0.0512 - accuracy: 0.6676 - val_loss: 0.0505 - val_accuracy: 0.6722\n",
      "Epoch 98/200\n",
      "469/469 [==============================] - 1s 1ms/step - loss: 0.0509 - accuracy: 0.6708 - val_loss: 0.0501 - val_accuracy: 0.6759\n",
      "Epoch 99/200\n",
      "469/469 [==============================] - 1s 1ms/step - loss: 0.0505 - accuracy: 0.6739 - val_loss: 0.0497 - val_accuracy: 0.6797\n",
      "Epoch 100/200\n",
      "469/469 [==============================] - 1s 1ms/step - loss: 0.0502 - accuracy: 0.6771 - val_loss: 0.0494 - val_accuracy: 0.6837\n",
      "Epoch 101/200\n",
      "469/469 [==============================] - 1s 1ms/step - loss: 0.0498 - accuracy: 0.6809 - val_loss: 0.0490 - val_accuracy: 0.6884\n",
      "Epoch 102/200\n",
      "469/469 [==============================] - 1s 1ms/step - loss: 0.0495 - accuracy: 0.6846 - val_loss: 0.0487 - val_accuracy: 0.6924\n",
      "Epoch 103/200\n",
      "469/469 [==============================] - 1s 1ms/step - loss: 0.0491 - accuracy: 0.6884 - val_loss: 0.0484 - val_accuracy: 0.6967\n",
      "Epoch 104/200\n",
      "469/469 [==============================] - 1s 1ms/step - loss: 0.0488 - accuracy: 0.6919 - val_loss: 0.0480 - val_accuracy: 0.7014\n",
      "Epoch 105/200\n",
      "469/469 [==============================] - 1s 1ms/step - loss: 0.0485 - accuracy: 0.6958 - val_loss: 0.0477 - val_accuracy: 0.7061\n",
      "Epoch 106/200\n",
      "469/469 [==============================] - 1s 1ms/step - loss: 0.0481 - accuracy: 0.6999 - val_loss: 0.0473 - val_accuracy: 0.7116\n",
      "Epoch 107/200\n",
      "469/469 [==============================] - 1s 1ms/step - loss: 0.0478 - accuracy: 0.7040 - val_loss: 0.0470 - val_accuracy: 0.7158\n",
      "Epoch 108/200\n",
      "469/469 [==============================] - 1s 1ms/step - loss: 0.0475 - accuracy: 0.7081 - val_loss: 0.0467 - val_accuracy: 0.7197\n",
      "Epoch 109/200\n",
      "469/469 [==============================] - 1s 1ms/step - loss: 0.0472 - accuracy: 0.7123 - val_loss: 0.0464 - val_accuracy: 0.7239\n",
      "Epoch 110/200\n",
      "469/469 [==============================] - 1s 1ms/step - loss: 0.0469 - accuracy: 0.7166 - val_loss: 0.0460 - val_accuracy: 0.7274\n",
      "Epoch 111/200\n",
      "469/469 [==============================] - 1s 1ms/step - loss: 0.0465 - accuracy: 0.7199 - val_loss: 0.0457 - val_accuracy: 0.7312\n",
      "Epoch 112/200\n",
      "437/469 [==========================>...] - ETA: 0s - loss: 0.0462 - accuracy: 0.7241"
     ]
    }
   ],
   "source": [
    "model.fit(X_train, y_train, batch_size=128, epochs=200, verbose=1, validation_data=(X_valid, y_valid), callbacks=[tensorboard_callback])"
   ]
  },
  {
   "cell_type": "markdown",
   "metadata": {
    "id": "eFFJFRyv6_a_"
   },
   "source": [
    "### Dokonajmy ewaluacji modelu na zbiorze walidacyjnym"
   ]
  },
  {
   "cell_type": "code",
   "execution_count": null,
   "metadata": {
    "colab": {
     "base_uri": "https://localhost:8080/"
    },
    "id": "Mi8oSUj06_a_",
    "outputId": "70d46bd6-7cf2-4faa-9acc-4247826c62f8"
   },
   "outputs": [
    {
     "name": "stdout",
     "output_type": "stream",
     "text": [
      "313/313 [==============================] - 0s 643us/step - loss: 0.0145 - accuracy: 0.9073\n"
     ]
    },
    {
     "data": {
      "text/plain": [
       "[0.014489601366221905, 0.9072999954223633]"
      ]
     },
     "execution_count": 24,
     "metadata": {},
     "output_type": "execute_result"
    }
   ],
   "source": [
    "model.evaluate(X_valid, y_valid)"
   ]
  },
  {
   "cell_type": "markdown",
   "metadata": {},
   "source": [
    "### Możesz spróbować pozmieniać rozmiar batcha, learning_rate, liczbę neuronów w ukrytej wartwie gęstej (lub nawet optymalizator) i podzielić się zauważkami czy przyniosło to jakąś poprawę lub pogorszenie działania sieci"
   ]
  },
  {
   "cell_type": "code",
   "execution_count": null,
   "metadata": {},
   "outputs": [
    {
     "name": "stderr",
     "output_type": "stream",
     "text": [
      "WARNING:absl:`lr` is deprecated in Keras optimizer, please use `learning_rate` or use the legacy optimizer, e.g.,tf.keras.optimizers.legacy.Adam.\n"
     ]
    },
    {
     "name": "stdout",
     "output_type": "stream",
     "text": [
      "Epoch 1/10\n",
      "1875/1875 [==============================] - 2s 928us/step - loss: 0.2570 - accuracy: 0.9266 - val_loss: 0.1334 - val_accuracy: 0.9590\n",
      "Epoch 2/10\n",
      "1875/1875 [==============================] - 2s 892us/step - loss: 0.1108 - accuracy: 0.9662 - val_loss: 0.1115 - val_accuracy: 0.9665\n",
      "Epoch 3/10\n",
      "1875/1875 [==============================] - 2s 873us/step - loss: 0.0766 - accuracy: 0.9769 - val_loss: 0.0787 - val_accuracy: 0.9750\n",
      "Epoch 4/10\n",
      "1875/1875 [==============================] - 2s 885us/step - loss: 0.0564 - accuracy: 0.9826 - val_loss: 0.0778 - val_accuracy: 0.9762\n",
      "Epoch 5/10\n",
      "1875/1875 [==============================] - 2s 875us/step - loss: 0.0443 - accuracy: 0.9862 - val_loss: 0.0738 - val_accuracy: 0.9768\n",
      "Epoch 6/10\n",
      "1875/1875 [==============================] - 2s 886us/step - loss: 0.0343 - accuracy: 0.9895 - val_loss: 0.0827 - val_accuracy: 0.9743\n",
      "Epoch 7/10\n",
      "1875/1875 [==============================] - 2s 873us/step - loss: 0.0282 - accuracy: 0.9915 - val_loss: 0.0818 - val_accuracy: 0.9756\n",
      "Epoch 8/10\n",
      "1875/1875 [==============================] - 2s 880us/step - loss: 0.0232 - accuracy: 0.9926 - val_loss: 0.0816 - val_accuracy: 0.9767\n",
      "Epoch 9/10\n",
      "1875/1875 [==============================] - 2s 881us/step - loss: 0.0180 - accuracy: 0.9943 - val_loss: 0.0770 - val_accuracy: 0.9799\n",
      "Epoch 10/10\n",
      "1875/1875 [==============================] - 2s 874us/step - loss: 0.0152 - accuracy: 0.9955 - val_loss: 0.0836 - val_accuracy: 0.9789\n"
     ]
    }
   ],
   "source": [
    "# Odp:\n",
    "from tensorflow.keras.models import Sequential\n",
    "from tensorflow.keras.layers import Dense\n",
    "from tensorflow.keras.optimizers import Adam\n",
    "\n",
    "model = Sequential()\n",
    "model.add(Dense(128, activation='relu', input_shape=(784,)))\n",
    "model.add(Dense(10, activation='softmax'))\n",
    "\n",
    "model.compile(optimizer=Adam(lr=0.001), loss='categorical_crossentropy', metrics=['accuracy'])\n",
    "\n",
    "history = model.fit(X_train, y_train, validation_data=(X_valid, y_valid), epochs=10, batch_size=32)"
   ]
  },
  {
   "cell_type": "markdown",
   "metadata": {},
   "source": [
    "### Zwizualizujmy parametry działania sieci w tensorboardzie"
   ]
  },
  {
   "cell_type": "code",
   "execution_count": null,
   "metadata": {},
   "outputs": [],
   "source": [
    "%tensorboard --logdir logs/fit --bind_all"
   ]
  },
  {
   "cell_type": "markdown",
   "metadata": {
    "id": "m5kN0zO56_a_"
   },
   "source": [
    "### Sprawdźmy jak dokładnie model działa na pojedynczych przypadkach"
   ]
  },
  {
   "cell_type": "markdown",
   "metadata": {},
   "source": [
    "w tym celu wyciągamy jedną z próbek (jeden z obrazów) ze zbioru walidacyjnego i wykonujemy na niej metodę prognozującą predict"
   ]
  },
  {
   "cell_type": "code",
   "execution_count": null,
   "metadata": {
    "id": "-i_2NQrm6_a_"
   },
   "outputs": [],
   "source": [
    "valid_0 = X_valid[0].reshape(1, 784)"
   ]
  },
  {
   "cell_type": "code",
   "execution_count": null,
   "metadata": {
    "colab": {
     "base_uri": "https://localhost:8080/"
    },
    "id": "1uDQLTJv6_a_",
    "outputId": "ede49bfa-9ddb-4f2c-e300-6004b3940232"
   },
   "outputs": [
    {
     "name": "stdout",
     "output_type": "stream",
     "text": [
      "1/1 [==============================] - 0s 44ms/step\n"
     ]
    },
    {
     "data": {
      "text/plain": [
       "array([[2.0376113e-03, 6.7856995e-04, 7.9439423e-04, 1.1920113e-02,\n",
       "        3.1816083e-04, 8.4223744e-04, 2.1101064e-04, 9.8097265e-01,\n",
       "        3.6958267e-04, 1.8557033e-03]], dtype=float32)"
      ]
     },
     "execution_count": 27,
     "metadata": {},
     "output_type": "execute_result"
    }
   ],
   "source": [
    "model.predict(valid_0)"
   ]
  },
  {
   "cell_type": "markdown",
   "metadata": {},
   "source": [
    "**Zadanie 4. Co oznaczają wartości znajdujące się w powyższej tablicy i jaka będzie w związku z tym prognoza co do cyfry na obrazie w tej próbce?**"
   ]
  },
  {
   "cell_type": "markdown",
   "metadata": {},
   "source": [
    "Odp:\n",
    "\n",
    "Każda wartość w tablicy odpowiada obliczonemu przez model prawdopodobieństwu odpowiedniej klasy. Na przykład, pierwsza wartość to prawdopodobieństwo, że cyfra to 0, druga wartość to prawdopodobieństwo, że cyfra to 1, i tak dalej, aż do ostatniej wartości, która jest prawdopodobieństwem, że cyfra to 9."
   ]
  },
  {
   "cell_type": "markdown",
   "metadata": {},
   "source": [
    "**Zadanie 5. Napisz kod sprawdzający - dla każdego rodzaju cyfry oddzielnie - jaką średnią pewność miała sieć, gdy stwierdzała że na obrazku występuje dana cyfra, niezależnie od tego czy poprawnie rozpoznała czy nie (nie musi być cały zbiór, wystarczy 500 pierwszych elementów). Chodzi o to by zobaczyć, która cyfra dla sieci jest najłatwiejsza do rozpoznania**"
   ]
  },
  {
   "cell_type": "code",
   "execution_count": null,
   "metadata": {},
   "outputs": [],
   "source": [
    "import numpy as np\n",
    "\n",
    "predictions = model.predict(X_valid[:500])\n",
    "sum_probabilities = np.zeros(10)\n",
    "\n",
    "for prediction in predictions:\n",
    "    sum_probabilities += prediction\n",
    "average_probabilities = sum_probabilities / 500\n",
    "\n",
    "for i, avg_prob in enumerate(average_probabilities):\n",
    "    print(f\"Digit {i}: {avg_prob}\")"
   ]
  }
 ],
 "metadata": {
  "colab": {
   "name": "shallow_net_in_tensorflow.ipynb",
   "provenance": []
  },
  "kernelspec": {
   "display_name": "Python 3 (ipykernel)",
   "language": "python",
   "name": "python3"
  },
  "language_info": {
   "codemirror_mode": {
    "name": "ipython",
    "version": 3
   },
   "file_extension": ".py",
   "mimetype": "text/x-python",
   "name": "python",
   "nbconvert_exporter": "python",
   "pygments_lexer": "ipython3",
   "version": "3.10.9"
  }
 },
 "nbformat": 4,
 "nbformat_minor": 4
}
